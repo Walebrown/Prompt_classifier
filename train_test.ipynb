{
 "cells": [
  {
   "cell_type": "code",
   "execution_count": null,
   "metadata": {},
   "outputs": [],
   "source": [
    "\n",
    "import pandas as pd\n",
    "from sklearn.model_selection import train_test_split\n",
    "from sklearn.linear_model import LogisticRegression\n",
    "from sklearn.metrics import classification_report\n",
    "\n",
    "\n",
    "# Split the data\n",
    "X_train, X_test, y_train, y_test = train_test_split(X, y, test_size=0.2, random_state=42)\n",
    "\n",
    "# Train the model\n",
    "model = LogisticRegression(max_iter=1000)\n",
    "model.fit(X_train, y_train)\n",
    "\n",
    "# Predict and evaluate\n",
    "y_pred = model.predict(X_test)\n",
    "print(classification_report(y_test, y_pred))\n",
    "\n",
    "# Ensure all comments in the full dataset are strings and drop any rows with missing comments\n",
    "df['comment'] = df['comment'].astype(str)\n",
    "df.dropna(subset=['comment'], inplace=True)\n",
    "\n",
    "# Vectorize the full dataset\n",
    "X_full = vectorizer.transform(df['comment'])\n",
    "\n",
    "# Predict labels\n",
    "df['Label'] = model.predict(X_full)\n",
    "\n",
    "# Save the results\n",
    "df.to_excel(\"classified_comments.xlsx\", index=False)\n",
    "\n",
    "print(\"Full dataset has been classified and saved to classified_comments.xlsx\")\n"
   ]
  }
 ],
 "metadata": {
  "language_info": {
   "name": "python"
  }
 },
 "nbformat": 4,
 "nbformat_minor": 2
}
